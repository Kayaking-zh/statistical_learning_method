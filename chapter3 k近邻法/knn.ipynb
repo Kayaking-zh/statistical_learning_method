{
 "cells": [
  {
   "cell_type": "code",
   "execution_count": 1,
   "metadata": {},
   "outputs": [],
   "source": [
    "import matplotlib.pyplot as plt\n",
    "from sklearn.model_selection import train_test_split\n",
    "import pandas as pd\n",
    "import numpy as np"
   ]
  },
  {
   "cell_type": "code",
   "execution_count": 2,
   "metadata": {},
   "outputs": [],
   "source": [
    "train = pd.read_csv('../dataset/train.csv')\n",
    "X, Y = train.drop('label', axis=1).to_numpy(), train['label'].to_numpy()\n",
    "X_train, X_val, Y_train, Y_val = train_test_split(X, Y, test_size=0.3)\n",
    "test = pd.read_csv('../dataset/test.csv')\n",
    "X_test = test.to_numpy()"
   ]
  },
  {
   "cell_type": "code",
   "execution_count": 3,
   "metadata": {},
   "outputs": [
    {
     "name": "stdout",
     "output_type": "stream",
     "text": [
      "2\n"
     ]
    },
    {
     "data": {
      "image/png": "[encoded data removed]",
      "text/plain": [
       "<Figure size 432x288 with 1 Axes>"
      ]
     },
     "metadata": {
      "needs_background": "light"
     },
     "output_type": "display_data"
    }
   ],
   "source": [
    "plt.imshow(X_train[0].reshape(28, 28), cmap='gray')\n",
    "print(Y_train[0])"
   ]
  },
  {
   "cell_type": "markdown",
   "metadata": {},
   "source": [
    "给定数据集$$T={(x_1,y_1), (x_2,y_2),\\cdots,(x_N,y_N)}$$\n",
    "其中$x_i \\in \\mathbb{R}^n$，$y_i \\in \\{c_1, c_2, \\cdots, c_K\\}$\n",
    "\n",
    "k近邻法通过给定的数据度量方法，在$T$中找到与$x$距离最近的$k$个点，记为$N_k(x)$，则$$y=\\mathop{\\arg\\max}_{c_j} \\sum\\limits_{x_i \\in N_k(x)}I(y_i=c_j)$$\n",
    "\n",
    "k近邻法的实现主要依赖于快速的寻找距离节点最近的k个点，采用的方法通常为kd-tree，kd-tree主要分为构造kd树和在kd树上进行查找两部分\n",
    "- 构造\n",
    "1. 构造kd树根节点，根节点对应于整个超矩形区域\n",
    "2. 选择一维，并选择该维的一个分割点，从而确定一个超平面将所有的数据点分为左右两个部分\n",
    "3. 对分割的两个超矩形递归的执行2中的操作，直到每个区域只剩一个节点\n",
    "第2步中的选择维度主要有两种方法，一种方法是循环的进行切割，每次选择的维度为$depth%dim$，类似于切割豆腐，但是假设我们的数据分布类似于木棒，一般来讲我们会在长的方向连续多切割几次，这种情况可以采用对每一维计算方差，选择方差最大的维度进行切割，也就是分布较长的。\n",
    "\n",
    "- 查找\n",
    "1. 自根节点开始，假设要查找点在该节点的左子树对应的超矩形区域，则进入左子树进行查找，否则进入右子树\n",
    "2. 若当前节点对应的另一侧区域可能存在比当前已知最近点更近的区域，则进入另一侧查找。具体的，判断另一侧区域是否可能存在更近的节点可以通过判断查询节点距离当前分割线的距离与查询节点距离已知最近点的距离的大小关系判定"
   ]
  },
  {
   "cell_type": "code",
   "execution_count": 4,
   "metadata": {},
   "outputs": [],
   "source": [
    "class KDTreeNode:\n",
    "    def __init__(self, data, label, split_dim, parent=None, left=None, right=None):\n",
    "        self.data = data\n",
    "        self.label = label\n",
    "        self.split_dim = split_dim\n",
    "        self.left = left\n",
    "        self.right = right\n",
    "\n",
    "class KHeap:\n",
    "    def __init__(self, k):\n",
    "        self.k = k\n",
    "        self.data = []\n",
    "        for i in range(k):\n",
    "            self.data.append((-1, -1))\n",
    "    \n",
    "    def push(self, dist, label):\n",
    "        for i in range(self.k):\n",
    "            if (self.data[i][0] > dist) or (self.data[i][0] == -1):\n",
    "                self.data.insert(i, (dist, label))\n",
    "                break\n",
    "        self.data = self.data[:self.k]\n",
    "    \n",
    "    def max_dist(self):\n",
    "        return self.data[-1][0]\n",
    "    \n",
    "    def gen_label(self):\n",
    "        labels = [x[1] for x in self.data]\n",
    "        return max(labels, key=labels.count)\n",
    "\n",
    "def build_KDTree(X, Y, depth=0):\n",
    "    if len(X) == 0:\n",
    "        return None\n",
    "    dim = len(X[0])\n",
    "    split_dim = depth % dim\n",
    "    indices = np.argsort(X[:, split_dim])\n",
    "    X = X[indices]\n",
    "    Y = Y[indices]\n",
    "    index = len(X) // 2\n",
    "    left = build_KDTree(X[:index], Y[:index], depth+1)\n",
    "    right = build_KDTree(X[index+1:], Y[index+1:], depth+1)\n",
    "    node = KDTreeNode(data=X[index], label=Y[index], split_dim=split_dim, left=left, right=right)\n",
    "    return node\n",
    "\n",
    "def search_KDTree(node, p, heap):\n",
    "    if node is None:\n",
    "        return \n",
    "    \n",
    "    dist = np.sum([(a - b) ** 2 for a, b in zip(node.data, p)])\n",
    "    heap.push(dist, node.label)\n",
    "    \n",
    "    dim = node.split_dim\n",
    "    if p[dim] <= node.data[dim]:\n",
    "        nxt = node.left\n",
    "        oppo = node.right\n",
    "    else:\n",
    "        nxt = node.right\n",
    "        oppo = node.left\n",
    "    \n",
    "    search_KDTree(nxt, p, heap)\n",
    "    \n",
    "    if ((p[dim] - node.data[dim]) * (p[dim] - node.data[dim]) < heap.max_dist()) or (heap.max_dist() == -1):\n",
    "        search_KDTree(oppo, p, heap)\n",
    "        \n",
    "class KNearestNeighbors:\n",
    "    def __init__(self, kneighbors=5):\n",
    "        self.kneighbors = kneighbors\n",
    "        self.root = None\n",
    "    \n",
    "    def fit(self, X, Y):\n",
    "        X = np.array(X)\n",
    "        Y = np.array(Y)\n",
    "        self.root = build_KDTree(X, Y)\n",
    "    \n",
    "    def predict(self, X):\n",
    "        Y = []\n",
    "        for x in X:\n",
    "            heap = KHeap(self.kneighbors)\n",
    "            search_KDTree(self.root, x, heap)\n",
    "            Y.append(heap.gen_label())\n",
    "        return Y"
   ]
  },
  {
   "cell_type": "code",
   "execution_count": 5,
   "metadata": {},
   "outputs": [
    {
     "data": {
      "text/plain": [
       "[0, 4, 3, 4, 2, 8, 7, 9, 1, 1]"
      ]
     },
     "execution_count": 5,
     "metadata": {},
     "output_type": "execute_result"
    }
   ],
   "source": [
    "model = KNearestNeighbors(kneighbors=5)\n",
    "model.fit(X_train, Y_train)\n",
    "model.predict(X_val[:10])"
   ]
  },
  {
   "cell_type": "markdown",
   "metadata": {},
   "source": [
    "# sklearn"
   ]
  },
  {
   "cell_type": "code",
   "execution_count": 6,
   "metadata": {},
   "outputs": [],
   "source": [
    "from sklearn.neighbors import KNeighborsClassifier\n",
    "from sklearn.metrics import accuracy_score"
   ]
  },
  {
   "cell_type": "code",
   "execution_count": 7,
   "metadata": {},
   "outputs": [
    {
     "data": {
      "text/plain": [
       "KNeighborsClassifier(algorithm='kd_tree', leaf_size=30, metric='minkowski',\n",
       "                     metric_params=None, n_jobs=None, n_neighbors=5, p=2,\n",
       "                     weights='uniform')"
      ]
     },
     "execution_count": 7,
     "metadata": {},
     "output_type": "execute_result"
    }
   ],
   "source": [
    "model = KNeighborsClassifier(algorithm='kd_tree')\n",
    "model.fit(X_train, Y_train)"
   ]
  },
  {
   "cell_type": "code",
   "execution_count": 8,
   "metadata": {},
   "outputs": [
    {
     "data": {
      "text/plain": [
       "0.9650793650793651"
      ]
     },
     "execution_count": 8,
     "metadata": {},
     "output_type": "execute_result"
    }
   ],
   "source": [
    "Y_pred = model.predict(X_val)\n",
    "accuracy_score(Y_val, Y_pred)"
   ]
  },
  {
   "cell_type": "code",
   "execution_count": null,
   "metadata": {},
   "outputs": [],
   "source": []
  }
 ],
 "metadata": {
  "kernelspec": {
   "display_name": "Python 3",
   "language": "python",
   "name": "python3"
  },
  "language_info": {
   "codemirror_mode": {
    "name": "ipython",
    "version": 3
   },
   "file_extension": ".py",
   "mimetype": "text/x-python",
   "name": "python",
   "nbconvert_exporter": "python",
   "pygments_lexer": "ipython3",
   "version": "3.7.6"
  }
 },
 "nbformat": 4,
 "nbformat_minor": 4
}
