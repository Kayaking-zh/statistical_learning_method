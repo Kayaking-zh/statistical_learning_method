{
 "cells": [
  {
   "cell_type": "code",
   "execution_count": 1,
   "metadata": {},
   "outputs": [],
   "source": [
    "import matplotlib.pyplot as plt\n",
    "from sklearn.model_selection import train_test_split\n",
    "import pandas as pd\n",
    "import numpy as np"
   ]
  },
  {
   "cell_type": "code",
   "execution_count": 2,
   "metadata": {},
   "outputs": [],
   "source": [
    "train = pd.read_csv('../dataset/train.csv')\n",
    "X, Y = train.drop('label', axis=1).to_numpy(), train['label'].to_numpy()\n",
    "X_train, X_val, Y_train, Y_val = train_test_split(X, Y, test_size=0.3)\n",
    "test = pd.read_csv('../dataset/test.csv')\n",
    "X_test = test.to_numpy()"
   ]
  },
  {
   "cell_type": "code",
   "execution_count": 3,
   "metadata": {},
   "outputs": [
    {
     "name": "stdout",
     "output_type": "stream",
     "text": [
      "7\n"
     ]
    },
    {
     "data": {
      "image/png": "[encoded data removed]",
      "text/plain": [
       "<Figure size 432x288 with 1 Axes>"
      ]
     },
     "metadata": {
      "needs_background": "light"
     },
     "output_type": "display_data"
    }
   ],
   "source": [
    "plt.imshow(X_train[0].reshape(28, 28), cmap='gray')\n",
    "print(Y_train[0])"
   ]
  },
  {
   "cell_type": "code",
   "execution_count": 4,
   "metadata": {},
   "outputs": [],
   "source": [
    "class KDTreeNode:\n",
    "    def __init__(self, data, label, split_dim, parent=None, left=None, right=None):\n",
    "        self.data = data\n",
    "        self.label = label\n",
    "        self.split_dim = split_dim\n",
    "        self.left = left\n",
    "        self.right = right\n",
    "\n",
    "class KHeap:\n",
    "    def __init__(self, k):\n",
    "        self.k = k\n",
    "        self.data = []\n",
    "        for i in range(k):\n",
    "            self.data.append((-1, -1))\n",
    "    \n",
    "    def push(self, dist, label):\n",
    "        for i in range(self.k):\n",
    "            if (self.data[i][0] > dist) or (self.data[i][0] == -1):\n",
    "                self.data.insert(i, (dist, label))\n",
    "                break\n",
    "        self.data = self.data[:self.k]\n",
    "    \n",
    "    def max_dist(self):\n",
    "        return self.data[-1][0]\n",
    "    \n",
    "    def gen_label(self):\n",
    "        labels = [x[1] for x in self.data]\n",
    "        return max(labels, key=labels.count)\n",
    "\n",
    "def build_KDTree(X, Y, depth=0):\n",
    "    if len(X) == 0:\n",
    "        return None\n",
    "    dim = len(X[0])\n",
    "    split_dim = depth % dim\n",
    "    indices = np.argsort(X[:, split_dim])\n",
    "    X = X[indices]\n",
    "    Y = Y[indices]\n",
    "    index = len(X) // 2\n",
    "    left = build_KDTree(X[:index], Y[:index], depth+1)\n",
    "    right = build_KDTree(X[index+1:], Y[index+1:], depth+1)\n",
    "    node = KDTreeNode(data=X[index], label=Y[index], split_dim=split_dim, left=left, right=right)\n",
    "    return node\n",
    "\n",
    "def search_KDTree(node, p, heap):\n",
    "    if node is None:\n",
    "        return \n",
    "    \n",
    "    dim = node.split_dim\n",
    "    if p[dim] <= node.data[dim]:\n",
    "        nxt = node.left\n",
    "        oppo = node.right\n",
    "    else:\n",
    "        nxt = node.right\n",
    "        oppo = node.left\n",
    "    \n",
    "    search_KDTree(nxt, p, heap)\n",
    "    \n",
    "    if (abs(p[dim] - node.data[dim]) < heap.max_dist()) or (heap.max_dist() == -1):\n",
    "        search_KDTree(oppo, p, heap)\n",
    "    \n",
    "    dist = np.sum([(a - b) ** 2 for a, b in zip(node.data, p)])\n",
    "    heap.push(dist, node.label)\n",
    "        \n",
    "class KNearestNeighbors:\n",
    "    def __init__(self, kneighbors=5):\n",
    "        self.kneighbors = kneighbors\n",
    "        self.root = None\n",
    "    \n",
    "    def fit(self, X, Y):\n",
    "        X = np.array(X)\n",
    "        Y = np.array(Y)\n",
    "        self.root = build_KDTree(X, Y)\n",
    "    \n",
    "    def predict(self, X):\n",
    "        Y = []\n",
    "        for x in X:\n",
    "            heap = KHeap(self.kneighbors)\n",
    "            search_KDTree(self.root, x, heap)\n",
    "            Y.append(heap.gen_label())\n",
    "        return Y"
   ]
  },
  {
   "cell_type": "code",
   "execution_count": 5,
   "metadata": {},
   "outputs": [
    {
     "data": {
      "text/plain": [
       "[4, 1, 3, 5, 8, 7, 7, 8, 2, 7]"
      ]
     },
     "execution_count": 5,
     "metadata": {},
     "output_type": "execute_result"
    }
   ],
   "source": [
    "model = KNearestNeighbors(kneighbors=5)\n",
    "model.fit(X_train, Y_train)\n",
    "model.predict(X_val[:10])"
   ]
  },
  {
   "cell_type": "markdown",
   "metadata": {},
   "source": [
    "# sklearn"
   ]
  },
  {
   "cell_type": "code",
   "execution_count": 6,
   "metadata": {},
   "outputs": [],
   "source": [
    "from sklearn.neighbors import KNeighborsClassifier\n",
    "from sklearn.metrics import accuracy_score"
   ]
  },
  {
   "cell_type": "code",
   "execution_count": 7,
   "metadata": {},
   "outputs": [
    {
     "data": {
      "text/plain": [
       "KNeighborsClassifier(algorithm='kd_tree', leaf_size=30, metric='minkowski',\n",
       "                     metric_params=None, n_jobs=None, n_neighbors=5, p=2,\n",
       "                     weights='uniform')"
      ]
     },
     "execution_count": 7,
     "metadata": {},
     "output_type": "execute_result"
    }
   ],
   "source": [
    "model = KNeighborsClassifier(algorithm='kd_tree')\n",
    "model.fit(X_train, Y_train)"
   ]
  },
  {
   "cell_type": "code",
   "execution_count": 8,
   "metadata": {},
   "outputs": [
    {
     "data": {
      "text/plain": [
       "0.9661111111111111"
      ]
     },
     "execution_count": 8,
     "metadata": {},
     "output_type": "execute_result"
    }
   ],
   "source": [
    "Y_pred = model.predict(X_val)\n",
    "accuracy_score(Y_val, Y_pred)"
   ]
  },
  {
   "cell_type": "code",
   "execution_count": null,
   "metadata": {},
   "outputs": [],
   "source": []
  }
 ],
 "metadata": {
  "kernelspec": {
   "display_name": "Python 3",
   "language": "python",
   "name": "python3"
  },
  "language_info": {
   "codemirror_mode": {
    "name": "ipython",
    "version": 3
   },
   "file_extension": ".py",
   "mimetype": "text/x-python",
   "name": "python",
   "nbconvert_exporter": "python",
   "pygments_lexer": "ipython3",
   "version": "3.7.6"
  }
 },
 "nbformat": 4,
 "nbformat_minor": 4
}
